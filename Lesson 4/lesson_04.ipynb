{
 "cells": [
  {
   "cell_type": "markdown",
   "metadata": {},
   "source": [
    "# Lesson 04\n",
    "## Парсинг HTML. XPath\n",
    "Написать приложение, которое собирает основные новости с сайтов mail.ru, lenta.ru.\n",
    "Для парсинга использовать xpath. Структура данных должна содержать:\n",
    "- название источника,\n",
    "- наименование новости,\n",
    "- ссылку на новость,\n",
    "- дата публикации"
   ]
  },
  {
   "cell_type": "code",
   "execution_count": 21,
   "metadata": {},
   "outputs": [],
   "source": [
    "from lxml import html\n",
    "import requests\n",
    "from datetime import datetime"
   ]
  },
  {
   "cell_type": "code",
   "execution_count": 22,
   "metadata": {},
   "outputs": [],
   "source": [
    "def get_news_lenta_ru():\n",
    "    \n",
    "    news = []\n",
    "    \n",
    "    keys = ('title', 'date', 'link')\n",
    "    date_format = '%Y-%m-%dT%H:%M:%S%z'\n",
    "    link_lenta = 'https://lenta.ru/'\n",
    "    \n",
    "    request = requests.get(link_lenta)\n",
    "\n",
    "    root = html.fromstring(request.text)\n",
    "    root.make_links_absolute(link_lenta)\n",
    "    \n",
    "    news_links = root.xpath('''(//section[@class=\"row b-top7-for-main js-top-seven\"]//div[@class=\"first-item\"]/h2 | \n",
    "                                //section[@class=\"row b-top7-for-main js-top-seven\"]//div[@class=\"item\"])\n",
    "                                /a/@href''')\n",
    "    \n",
    "    news_text = root.xpath('''(//section[@class=\"row b-top7-for-main js-top-seven\"]//div[@class=\"first-item\"]/h2 | \n",
    "                                //section[@class=\"row b-top7-for-main js-top-seven\"]//div[@class=\"item\"])\n",
    "                                /a/text()''')\n",
    "    \n",
    "    for i in range(len(news_text)):\n",
    "        news_text[i] = news_text[i].replace(u'\\xa0', u' ')\n",
    "    \n",
    "    news_date = []\n",
    "    \n",
    "    for item in news_links:\n",
    "        request = requests.get(item)\n",
    "        root = html.fromstring(request.text)\n",
    "        date = root.xpath('//time[@itemprop=\"datePublished\"]/@datetime')\n",
    "        news_date.extend(date)\n",
    "\n",
    "    for i in range(len(news_date)):\n",
    "        news_date[i] = datetime.strptime(news_date[i], date_format)\n",
    "        \n",
    "    for item in list(zip(news_text, news_date, news_links)):\n",
    "        news_dict = {}\n",
    "        for key, value in zip(keys, item):\n",
    "            news_dict[key] = value\n",
    "        \n",
    "        news_dict['source'] = 'lenta.ru'\n",
    "        news.append(news_dict)\n",
    "    \n",
    "    return news"
   ]
  },
  {
   "cell_type": "code",
   "execution_count": 23,
   "metadata": {},
   "outputs": [],
   "source": [
    "def get_news_mail_ru():\n",
    "    \n",
    "    news = []    \n",
    "    \n",
    "    headers = {\n",
    "                'User-Agent': 'Mozilla/5.0 (X11; Linux x86_64; rv:69.0) Gecko/20100101 Firefox/69.0'\n",
    "            }\n",
    "    \n",
    "    keys = ('title', 'date', 'link')\n",
    "    date_format = '%Y-%m-%dT%H:%M:%S%z'\n",
    "    \n",
    "\n",
    "    link_mail_ru = 'https://mail.ru/'\n",
    "    \n",
    "    request = requests.get(link_mail_ru, headers=headers)\n",
    "    root = html.fromstring(request.text)\n",
    "    \n",
    "    news_links = root.xpath('''(//div[@class =  \"news-item o-media news-item_media news-item_main\"]  |  \n",
    "                                //div[@class =  \"news-item__inner\"])\n",
    "                                /a[contains(@href, \"news.mail.ru\")]/@href''')\n",
    "    \n",
    "    news_text = root.xpath('''(//div[@class =  \"news-item o-media news-item_media news-item_main\"]//h3  |  \n",
    "                               //div[@class =  \"news-item__inner\"]/a[contains(@href, \"news.mail.ru\")])\n",
    "                               /text()''')\n",
    "    \n",
    "    for i in range(len(news_text)):\n",
    "        news_text[i] = news_text[i].replace(u'\\xa0', u' ')\n",
    "    \n",
    "    news_links_temp = []\n",
    "    for item in news_links:\n",
    "        item = item.split('/')\n",
    "        news_links_temp.append('/'.join(item[0:5]))\n",
    "        \n",
    "    news_links = news_links_temp\n",
    "    del(news_links_temp)\n",
    "    \n",
    "    news_date = []\n",
    "    \n",
    "    for item in news_links:\n",
    "        request = requests.get(item, headers=headers)\n",
    "        root = html.fromstring(request.text)\n",
    "        date = root.xpath('//span[@class=\"note__text breadcrumbs__text js-ago\"]/@datetime')\n",
    "        news_date.extend(date)\n",
    "        \n",
    "    for i in range(len(news_date)):\n",
    "        news_date[i] = datetime.strptime(news_date[i], date_format)\n",
    "        \n",
    "    for item in list(zip(news_text, news_date, news_links)):\n",
    "        news_dict = {}\n",
    "        for key, value in zip(keys, item):\n",
    "            news_dict[key] = value\n",
    "        \n",
    "        news_dict['source'] = 'mail.ru'\n",
    "        news.append(news_dict)\n",
    "    \n",
    "    return news"
   ]
  },
  {
   "cell_type": "code",
   "execution_count": 24,
   "metadata": {},
   "outputs": [
    {
     "data": {
      "text/plain": [
       "[]"
      ]
     },
     "execution_count": 24,
     "metadata": {},
     "output_type": "execute_result"
    }
   ],
   "source": [
    "get_news_lenta_ru()"
   ]
  },
  {
   "cell_type": "code",
   "execution_count": 25,
   "metadata": {},
   "outputs": [
    {
     "data": {
      "text/plain": [
       "[]"
      ]
     },
     "execution_count": 25,
     "metadata": {},
     "output_type": "execute_result"
    }
   ],
   "source": [
    "get_news_mail_ru()"
   ]
  },
  {
   "cell_type": "code",
   "execution_count": null,
   "metadata": {},
   "outputs": [],
   "source": []
  }
 ],
 "metadata": {
  "kernelspec": {
   "display_name": "Python 3",
   "language": "python",
   "name": "python3"
  },
  "language_info": {
   "codemirror_mode": {
    "name": "ipython",
    "version": 3
   },
   "file_extension": ".py",
   "mimetype": "text/x-python",
   "name": "python",
   "nbconvert_exporter": "python",
   "pygments_lexer": "ipython3",
   "version": "3.7.6"
  }
 },
 "nbformat": 4,
 "nbformat_minor": 4
}
